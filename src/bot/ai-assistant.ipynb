{
 "cells": [
  {
   "cell_type": "code",
   "execution_count": 25,
   "id": "6c18c35b",
   "metadata": {},
   "outputs": [],
   "source": [
    "import os\n",
    "from dotenv import load_dotenv\n",
    "from openai import OpenAI\n",
    "from IPython.display import display,Markdown\n",
    "import json\n",
    "from PyPDF2 import PdfReader\n",
    "import gradio as gr\n",
    "from pydantic import BaseModel\n"
   ]
  },
  {
   "cell_type": "code",
   "execution_count": 37,
   "id": "a61d942d",
   "metadata": {},
   "outputs": [],
   "source": [
    "load_dotenv(override=True)\n",
    "\n",
    "openai_client = OpenAI(api_key=os.getenv(\"OPENAI_API_KEY\"))\n",
    "gemini_client = OpenAI(api_key=os.getenv(\"GOOGLE_API_KEY\"), base_url=\"https://generativelanguage.googleapis.com/v1beta/openai\")"
   ]
  },
  {
   "cell_type": "code",
   "execution_count": null,
   "id": "7ff5e916",
   "metadata": {},
   "outputs": [],
   "source": [
    "reader = PdfReader(\"cv.pdf\")\n",
    "\n",
    "cv = \"\"\n",
    "for page in reader.pages:\n",
    "    cv += page.extract_text()\n",
    "\n",
    "print(cv)"
   ]
  },
  {
   "cell_type": "code",
   "execution_count": null,
   "id": "9295909c",
   "metadata": {},
   "outputs": [],
   "source": [
    "summary = \"\"\n",
    "\n",
    "#lets read the summary.txt file\n",
    "with open(\"summary.txt\", \"r\") as file:\n",
    "    summary = file.read()\n",
    "\n",
    "print(summary)\n",
    "\n"
   ]
  },
  {
   "cell_type": "code",
   "execution_count": 16,
   "id": "a74de2c7",
   "metadata": {},
   "outputs": [],
   "source": [
    "name=\"Damilare Bakare\""
   ]
  },
  {
   "cell_type": "code",
   "execution_count": 17,
   "id": "9653241c",
   "metadata": {},
   "outputs": [],
   "source": [
    "system_prompt = f\"\"\"\n",
    "You are a helpful assistant that can answer questions about {name}.\n",
    "\n",
    "You are given a summary of {name} and {name}'s CV. you need to answer questions about {name}.\n",
    "\n",
    "The summary is:\n",
    "{summary}\n",
    "\n",
    "The CV is:\n",
    "{cv}\n",
    "\n",
    "As {name}'s personal assistant, you must be polite, professional and engaging.\n",
    "\n",
    "You need to answer the questions based on the summary and the CV.\n",
    "\n",
    "\"\"\""
   ]
  },
  {
   "cell_type": "code",
   "execution_count": null,
   "id": "70c80095",
   "metadata": {},
   "outputs": [],
   "source": [
    "print(system_prompt)"
   ]
  },
  {
   "cell_type": "code",
   "execution_count": 30,
   "id": "db066c99",
   "metadata": {},
   "outputs": [],
   "source": [
    "\n",
    "class Chat(BaseModel):\n",
    "    isAccepted: bool\n",
    "    reason: str\n",
    "\n"
   ]
  },
  {
   "cell_type": "code",
   "execution_count": 34,
   "id": "49fe1dc6",
   "metadata": {},
   "outputs": [],
   "source": [
    "def evaluate(history, question, response)->Chat:\n",
    "    \n",
    "    evaluator_prompt = f\"\"\"\n",
    "    You are a response evaluator. Your task is to evaluate the response of another assistant to a chat about {name}. \n",
    "    You are to ensure that the response is relevant to the chat, not of the context, professional and engaging.\n",
    "    Given the {name}'s summary to be {summary} and the {name}'s CV to be {cv}, chat history to be {history} and the question to be {question}, you need to evaluate the assistant's repoonse {response} to be sure that it is relevant to the chat, not of the context, professional and engaging.\n",
    "    \"\"\"\n",
    "\n",
    "    evaluator_message = [{\n",
    "        \"role\": \"user\",\n",
    "        \"content\": evaluator_prompt\n",
    "    }]\n",
    "\n",
    "    evaluator_response = gemini_client.beta.chat.completions.parse(\n",
    "        model=\"gemini-2.0-flash\",\n",
    "        messages=evaluator_message,\n",
    "        response_format=Chat\n",
    "    )\n",
    "\n",
    "    return evaluator_response.choices[0].message.parsed"
   ]
  },
  {
   "cell_type": "code",
   "execution_count": 41,
   "id": "09aa545b",
   "metadata": {},
   "outputs": [],
   "source": [
    "def reRun(feedback, history, question):\n",
    "    rerun_prompt = f\"\"\"\n",
    "    You are a response rerunner. Your task is to rerun the response of another assistant to a chat about {name}. \n",
    "    You are to ensure that the response is relevant to the chat, not of the context, professional and engaging.\n",
    "    Given the {name}'s summary to be {summary} and the {name}'s CV to be {cv}, chat history to be {history} and the question to be {question}, \n",
    "    You need to generate another response based on the feedback {feedback} to be sure that it is relevant to the chat, not of the context, professional and engaging.\n",
    "    \"\"\"\n",
    "\n",
    "    rerun_message = [{\n",
    "        \"role\": \"system\",\n",
    "        \"content\": rerun_prompt\n",
    "    }] + history + [\n",
    "        {\n",
    "            \"role\": \"user\",\n",
    "            \"content\": question\n",
    "        }\n",
    "    ]\n",
    "\n",
    "    rerun_response = openai_client.chat.completions.create(\n",
    "        model=\"gpt-4o-mini\",\n",
    "        messages=rerun_message\n",
    "    )\n",
    "\n",
    "    return rerun_response.choices[0].message.content"
   ]
  },
  {
   "cell_type": "code",
   "execution_count": 42,
   "id": "f0157276",
   "metadata": {},
   "outputs": [],
   "source": [
    "def chat(message, history):\n",
    "    \n",
    "    system_message = [{\n",
    "        \"role\": \"system\",\n",
    "        \"content\": system_prompt\n",
    "    }] + history + [\n",
    "        {\n",
    "            \"role\": \"user\",\n",
    "            \"content\": message\n",
    "        }\n",
    "    ]\n",
    "\n",
    "    response = openai_client.chat.completions.create(\n",
    "        model=\"gpt-4o-mini\",\n",
    "        messages=system_message\n",
    "    )\n",
    "\n",
    "\n",
    "    unevaluated_response = response.choices[0].message.content\n",
    "\n",
    "    evaluator_result = evaluate(history, message, unevaluated_response)\n",
    "\n",
    "    if evaluator_result.isAccepted:\n",
    "        return unevaluated_response\n",
    "    else:\n",
    "        return reRun(evaluator_result.rason, history, message)\n",
    "\n",
    "    return unevaluated_response\n",
    "    \n",
    "\n"
   ]
  },
  {
   "cell_type": "code",
   "execution_count": 43,
   "id": "74451674",
   "metadata": {},
   "outputs": [
    {
     "name": "stdout",
     "output_type": "stream",
     "text": [
      "* Running on local URL:  http://127.0.0.1:7866\n",
      "* To create a public link, set `share=True` in `launch()`.\n"
     ]
    },
    {
     "data": {
      "text/html": [
       "<div><iframe src=\"http://127.0.0.1:7866/\" width=\"100%\" height=\"500\" allow=\"autoplay; camera; microphone; clipboard-read; clipboard-write;\" frameborder=\"0\" allowfullscreen></iframe></div>"
      ],
      "text/plain": [
       "<IPython.core.display.HTML object>"
      ]
     },
     "metadata": {},
     "output_type": "display_data"
    },
    {
     "data": {
      "text/plain": []
     },
     "execution_count": 43,
     "metadata": {},
     "output_type": "execute_result"
    }
   ],
   "source": [
    "gr.ChatInterface(chat, type=\"messages\").launch()"
   ]
  }
 ],
 "metadata": {
  "kernelspec": {
   "display_name": ".venv",
   "language": "python",
   "name": "python3"
  },
  "language_info": {
   "codemirror_mode": {
    "name": "ipython",
    "version": 3
   },
   "file_extension": ".py",
   "mimetype": "text/x-python",
   "name": "python",
   "nbconvert_exporter": "python",
   "pygments_lexer": "ipython3",
   "version": "3.12.7"
  }
 },
 "nbformat": 4,
 "nbformat_minor": 5
}
