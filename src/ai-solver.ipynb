{
 "cells": [
  {
   "cell_type": "code",
   "execution_count": 28,
   "id": "1fb80fa7",
   "metadata": {},
   "outputs": [
    {
     "data": {
      "text/plain": [
       "True"
      ]
     },
     "execution_count": 28,
     "metadata": {},
     "output_type": "execute_result"
    }
   ],
   "source": [
    "from dotenv import load_dotenv\n",
    "import os\n",
    "from openai import OpenAI\n",
    "from IPython.display import Markdown, display\n",
    "\n",
    "load_dotenv()"
   ]
  },
  {
   "cell_type": "code",
   "execution_count": 29,
   "id": "9fdd29a0",
   "metadata": {},
   "outputs": [],
   "source": [
    "\n",
    "OPENAI_API_KEY = os.getenv(\"OPENAI_API_KEY\")"
   ]
  },
  {
   "cell_type": "code",
   "execution_count": 30,
   "id": "db420256",
   "metadata": {},
   "outputs": [
    {
     "name": "stdout",
     "output_type": "stream",
     "text": [
      "sk-proj-\n"
     ]
    }
   ],
   "source": [
    "print(OPENAI_API_KEY[:8])"
   ]
  },
  {
   "cell_type": "code",
   "execution_count": 45,
   "id": "b079368f",
   "metadata": {},
   "outputs": [],
   "source": [
    "question = \"Generate a python code to solve the following problem: Given a list of numbers, find the two numbers that add up to a given target number.\"\n",
    "\n",
    "messages = [{\"role\": \"user\", \"content\": question}]"
   ]
  },
  {
   "cell_type": "code",
   "execution_count": 46,
   "id": "c8f8e5c7",
   "metadata": {},
   "outputs": [],
   "source": [
    "openai_client = OpenAI(api_key=OPENAI_API_KEY)"
   ]
  },
  {
   "cell_type": "code",
   "execution_count": null,
   "id": "4660f6df",
   "metadata": {},
   "outputs": [],
   "source": [
    "result = openai_client.chat.completions.create(\n",
    "    model=\"gpt-4o-mini\",\n",
    "    messages=[{\"role\": \"user\", \"content\": question}],\n",
    ")\n",
    "\n",
    "answer = result.choices[0].message.content\n",
    "\n",
    "print(answer)"
   ]
  },
  {
   "cell_type": "code",
   "execution_count": null,
   "id": "b7cb2a4d",
   "metadata": {},
   "outputs": [],
   "source": [
    "\n",
    "print(display(Markdown(answer)))"
   ]
  },
  {
   "cell_type": "code",
   "execution_count": 58,
   "id": "77400d93",
   "metadata": {},
   "outputs": [],
   "source": [
    "prompt = \"Please, generate a question in mathematics. I need only one question and only the question, no other text.\"\n",
    "\n",
    "messages = [{\"role\": \"user\", \"content\": prompt}]"
   ]
  },
  {
   "cell_type": "code",
   "execution_count": 59,
   "id": "50912118",
   "metadata": {},
   "outputs": [
    {
     "data": {
      "text/markdown": [
       "What is the value of x in the equation 3x + 7 = 22?"
      ],
      "text/plain": [
       "<IPython.core.display.Markdown object>"
      ]
     },
     "metadata": {},
     "output_type": "display_data"
    },
    {
     "name": "stdout",
     "output_type": "stream",
     "text": [
      "None\n"
     ]
    }
   ],
   "source": [
    "response = openai_client.chat.completions.create(\n",
    "    model=\"gpt-4o-mini\",\n",
    "    messages=messages\n",
    ")\n",
    "\n",
    "question = response.choices[0].message.content\n",
    "\n",
    "print(display(Markdown(question)))"
   ]
  },
  {
   "cell_type": "code",
   "execution_count": 62,
   "id": "c9f71bf8",
   "metadata": {},
   "outputs": [
    {
     "data": {
      "text/markdown": [
       "To find the value of \\( x \\) in the equation \\( 3x + 7 = 22 \\), we will solve the equation step by step.\n",
       "\n",
       "1. **Start with the equation:** \n",
       "\n",
       "   \\[\n",
       "   3x + 7 = 22\n",
       "   \\]\n",
       "\n",
       "2. **Isolate the term with \\( x \\):** \n",
       "\n",
       "   To do this, we need to eliminate the constant term on the left side of the equation, which is \\( 7 \\). We can do this by subtracting \\( 7 \\) from both sides:\n",
       "\n",
       "   \\[\n",
       "   3x + 7 - 7 = 22 - 7\n",
       "   \\]\n",
       "\n",
       "   This simplifies to:\n",
       "\n",
       "   \\[\n",
       "   3x = 15\n",
       "   \\]\n",
       "\n",
       "3. **Solve for \\( x \\):** \n",
       "\n",
       "   Now that we have \\( 3x = 15 \\), we want to isolate \\( x \\) by dividing both sides of the equation by \\( 3 \\):\n",
       "\n",
       "   \\[\n",
       "   \\frac{3x}{3} = \\frac{15}{3}\n",
       "   \\]\n",
       "\n",
       "   This simplifies to:\n",
       "\n",
       "   \\[\n",
       "   x = 5\n",
       "   \\]\n",
       "\n",
       "4. **Conclusion:** \n",
       "\n",
       "   The value of \\( x \\) in the equation \\( 3x + 7 = 22 \\) is \\( 5 \\).\n",
       "\n",
       "5. **Verification:** \n",
       "\n",
       "   To ensure our solution is correct, we can substitute \\( x = 5 \\) back into the original equation:\n",
       "\n",
       "   \\[\n",
       "   3(5) + 7 = 15 + 7 = 22\n",
       "   \\]\n",
       "\n",
       "   Since both sides of the equation are equal (22 = 22), our solution is verified.\n",
       "\n",
       "Finally, the value of \\( x \\) is \\( \\boxed{5} \\)."
      ],
      "text/plain": [
       "<IPython.core.display.Markdown object>"
      ]
     },
     "metadata": {},
     "output_type": "display_data"
    },
    {
     "name": "stdout",
     "output_type": "stream",
     "text": [
      "None\n"
     ]
    }
   ],
   "source": [
    "answer = openai_client.chat.completions.create(\n",
    "    model=\"gpt-4o-mini\",\n",
    "    messages=[{\"role\": \"user\", \"content\": f\"Provide the answer to the following question: {question}. Explain the answer in detail.\"}],\n",
    ")\n",
    "\n",
    "solution = answer.choices[0].message.content\n",
    "\n",
    "print(display(Markdown(solution)))"
   ]
  }
 ],
 "metadata": {
  "kernelspec": {
   "display_name": ".venv",
   "language": "python",
   "name": "python3"
  },
  "language_info": {
   "codemirror_mode": {
    "name": "ipython",
    "version": 3
   },
   "file_extension": ".py",
   "mimetype": "text/x-python",
   "name": "python",
   "nbconvert_exporter": "python",
   "pygments_lexer": "ipython3",
   "version": "3.12.7"
  }
 },
 "nbformat": 4,
 "nbformat_minor": 5
}
